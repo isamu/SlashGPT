{
 "nbformat": 4,
 "nbformat_minor": 0,
 "metadata": {
  "colab": {
   "provenance": []
  },
  "kernelspec": {
   "name": "python3",
   "display_name": "Python 3"
  },
  "language_info": {
   "name": "python"
  }
 },
 "cells": [
  {
   "cell_type": "code",
   "execution_count": null,
   "metadata": {
    "id": "SMc7daY1gyyd"
   },
   "outputs": [],
   "source": [
    "from google.colab import drive\n",
    "\n",
    "drive.mount(\"/content/drive\")"
   ]
  },
  {
   "cell_type": "code",
   "source": [
    "### 作業フォルダを指定してください。\n",
    "### Google Drive https://drive.google.com/drive/u/0/my-drive のパスは '/content/drive/MyDrive/' です\n",
    "\n",
    "working_directory = \"/content/drive/MyDrive/\"\n",
    "%cd $working_directory"
   ],
   "metadata": {
    "id": "tTP5SLIkgz4v"
   },
   "execution_count": null,
   "outputs": []
  },
  {
   "cell_type": "code",
   "source": [
    "!git clone https://github.com/snakajima/SlashGPT"
   ],
   "metadata": {
    "id": "5z4L10wfhCl1"
   },
   "execution_count": null,
   "outputs": []
  },
  {
   "cell_type": "code",
   "source": [
    "%cd SlashGPT"
   ],
   "metadata": {
    "id": "uiO3GYwOhD2R"
   },
   "execution_count": null,
   "outputs": []
  },
  {
   "cell_type": "code",
   "source": [
    "## ファイル名を変更します\n",
    "## Google Colab 上で動かすとエラーになるため\n",
    "\n",
    "!mv ./resources/graphql.json ./resources/graphQL.json"
   ],
   "metadata": {
    "id": "sr76w16Wj_Lw"
   },
   "execution_count": null,
   "outputs": []
  },
  {
   "cell_type": "code",
   "source": [
    "!pip install -r requirements.txt"
   ],
   "metadata": {
    "id": "rA3GDbH9hFAO"
   },
   "execution_count": null,
   "outputs": []
  },
  {
   "cell_type": "code",
   "source": [
    "### .env を作成し、OPENAI_API_KEY を登録する\n",
    "### xxx を OpenAI から発行された API KEY に変更してください\n",
    "\n",
    "!touch .env\n",
    "!echo OPENAI_API_KEY=xxx >> .env"
   ],
   "metadata": {
    "id": "sKTMoET_hGEu"
   },
   "execution_count": null,
   "outputs": []
  },
  {
   "cell_type": "code",
   "source": [
    "### 環境変数を読み込みます\n",
    "# 参考資料\n",
    "# https://note.com/ayu_smartlife/n/n64a10dd5f901\n",
    "\n",
    "import os\n",
    "\n",
    "os.chdir(working_directory + \"/SlashGPT/\")\n",
    "\n",
    "from dotenv import load_dotenv\n",
    "\n",
    "load_dotenv()\n",
    "\n",
    "import openai\n",
    "\n",
    "openai.api_key = os.environ[\"OPENAI_API_KEY\"]"
   ],
   "metadata": {
    "id": "MdCWCFs_hL0a"
   },
   "execution_count": null,
   "outputs": []
  },
  {
   "cell_type": "code",
   "source": [
    "%run SlashGPT.py"
   ],
   "metadata": {
    "id": "y36SqdpAhOJh"
   },
   "execution_count": null,
   "outputs": []
  },
  {
   "cell_type": "code",
   "source": [],
   "metadata": {
    "id": "lD7TtaLml8bD"
   },
   "execution_count": null,
   "outputs": []
  }
 ]
}